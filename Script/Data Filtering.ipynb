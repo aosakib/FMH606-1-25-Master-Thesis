{
 "cells": [
  {
   "cell_type": "code",
   "id": "initial_id",
   "metadata": {
    "collapsed": true,
    "ExecuteTime": {
     "end_time": "2025-05-01T23:57:43.172593Z",
     "start_time": "2025-05-01T23:56:09.223390Z"
    }
   },
   "source": [
    "# Filter Wind Speed in Norway and Denmark where more than the limit\n",
    "import pandas as pd\n",
    "\n",
    "# Path to merged .txt file\n",
    "MERGED_TXT_PATH = r\"C:\\GISDataManipulation\\NorwayDenmarkMergedWindSpeed100m\\NorwayDenmarkMergedWindSpeed100mFromTXT.txt\"\n",
    "OUTPUT_FILTERED_TXT = r\"C:\\GISDataManipulation\\NorwayDenmarkMergedWindSpeed100m\\NorwayDenmarkAboveFilterWindSpeed.txt\"\n",
    "\n",
    "# Load merged data\n",
    "df = pd.read_csv(MERGED_TXT_PATH, delimiter=\",\")  # Change delimiter if needed\n",
    "\n",
    "# Automatically detect wind speed column\n",
    "wind_col_candidates = [col for col in df.columns if 'wind' in col.lower() or 'value' in col.lower()]\n",
    "wind_col = wind_col_candidates[0]\n",
    "\n",
    "# Filter wind speeds > Filtered m/s\n",
    "df_filtered = df[df[wind_col] > 7.0]\n",
    "\n",
    "# Save filtered data to a new .txt file\n",
    "df_filtered.to_csv(OUTPUT_FILTERED_TXT, index=False, sep=\",\")\n",
    "print(f\"Filtered Wind speed extracted and saved to: {OUTPUT_FILTERED_TXT}\")\n"
   ],
   "outputs": [
    {
     "name": "stdout",
     "output_type": "stream",
     "text": [
      "Filtered Wind speed extracted and saved to: C:\\GISDataManipulation\\NorwayDenmarkMergedWindSpeed100m\\NorwayDenmarkAboveFilterWindSpeed.txt\n"
     ]
    }
   ],
   "execution_count": 1
  },
  {
   "metadata": {},
   "cell_type": "code",
   "outputs": [],
   "execution_count": null,
   "source": "",
   "id": "6f7c561ae6c361dd"
  }
 ],
 "metadata": {
  "kernelspec": {
   "display_name": "Python 3",
   "language": "python",
   "name": "python3"
  },
  "language_info": {
   "codemirror_mode": {
    "name": "ipython",
    "version": 2
   },
   "file_extension": ".py",
   "mimetype": "text/x-python",
   "name": "python",
   "nbconvert_exporter": "python",
   "pygments_lexer": "ipython2",
   "version": "2.7.6"
  }
 },
 "nbformat": 4,
 "nbformat_minor": 5
}
