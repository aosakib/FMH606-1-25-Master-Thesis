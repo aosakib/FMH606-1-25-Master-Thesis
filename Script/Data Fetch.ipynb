{
 "cells": [
  {
   "cell_type": "code",
   "id": "initial_id",
   "metadata": {
    "collapsed": true,
    "ExecuteTime": {
     "end_time": "2025-05-01T18:50:37.651089Z",
     "start_time": "2025-05-01T18:49:55.393396Z"
    }
   },
   "source": [
    "#Norway 12 Monthly PVOUT Data from 1994 to 2018\n",
    "import rasterio\n",
    "import pandas as pd\n",
    "import numpy as np\n",
    "import os\n",
    "\n",
    "# Directory containing 12 monthly TIF files\n",
    "TIF_DIR = r\"C:\\Users\\sakib\\Downloads\\GSA Download_220325\\Norway_GISdata_LTAym_YearlyMonthlyTotals_GlobalSolarAtlas-v2_GEOTIFF\\Norway_GISdata_LTAy_YearlyMonthlyTotals_GlobalSolarAtlas-v2_GEOTIFF\\monthly\"\n",
    "\n",
    "# Directory for CSV from TIF, 12 monthly TIF files\n",
    "CSV_OUTPUT_PATH = r\"C:\\Master-Thesis-FMH606\\Data\\NorwayPVOUTMergedInput\\NorwaySolarPVOUT_12Months.csv\"\n",
    "\n",
    "def solar_tifs_to_csv(tif_directory, csv_path):\n",
    "    all_month_data = None\n",
    "    for month in range(1, 13):\n",
    "        tif_path = os.path.join(tif_directory, f\"PVOUT_{month:02d}.tif\")\n",
    "\n",
    "        with rasterio.open(tif_path) as dataset:\n",
    "            band = dataset.read(1)\n",
    "            transform = dataset.transform\n",
    "            height, width = band.shape\n",
    "\n",
    "            month_data = []\n",
    "\n",
    "            for row in range(height):\n",
    "                for col in range(width):\n",
    "                    value = band[row, col]\n",
    "                    if not np.isnan(value):\n",
    "                        lon, lat = rasterio.transform.xy(transform, row, col)\n",
    "                        month_data.append([lat, lon, value])\n",
    "\n",
    "            # Convert to DataFrame\n",
    "            df_month = pd.DataFrame(month_data, columns=[\"Latitude\", \"Longitude\", f\"PVOUT_Month_{month:02d}\"])\n",
    "\n",
    "            # Merge with master DataFrame\n",
    "            if all_month_data is None:\n",
    "                all_month_data = df_month\n",
    "            else:\n",
    "                # Merge on Latitude and Longitude\n",
    "                all_month_data = pd.merge(all_month_data, df_month, on=[\"Latitude\", \"Longitude\"], how=\"outer\")\n",
    "\n",
    "            print(f\"Processed PVOUT:{month:02d}.tif\")\n",
    "\n",
    "    # Save to CSV\n",
    "    all_month_data.to_csv(csv_path, index=False)\n",
    "    print(f\"All months combined and CSV saved: {csv_path}\")\n",
    "\n",
    "# Run the combined extraction\n",
    "solar_tifs_to_csv(TIF_DIR, CSV_OUTPUT_PATH)\n"
   ],
   "outputs": [
    {
     "name": "stdout",
     "output_type": "stream",
     "text": [
      "Processed PVOUT:01.tif\n",
      "Processed PVOUT:02.tif\n",
      "Processed PVOUT:03.tif\n",
      "Processed PVOUT:04.tif\n",
      "Processed PVOUT:05.tif\n",
      "Processed PVOUT:06.tif\n",
      "Processed PVOUT:07.tif\n",
      "Processed PVOUT:08.tif\n",
      "Processed PVOUT:09.tif\n",
      "Processed PVOUT:10.tif\n",
      "Processed PVOUT:11.tif\n",
      "Processed PVOUT:12.tif\n",
      "All months combined and CSV saved: C:\\Master-Thesis-FMH606\\Data\\NorwayPVOUTMergedInput\\NorwaySolarPVOUT_12Months.csv\n"
     ]
    }
   ],
   "execution_count": 1
  },
  {
   "metadata": {},
   "cell_type": "code",
   "outputs": [],
   "execution_count": null,
   "source": "",
   "id": "252a019a760552d8"
  }
 ],
 "metadata": {
  "kernelspec": {
   "display_name": "Python 3",
   "language": "python",
   "name": "python3"
  },
  "language_info": {
   "codemirror_mode": {
    "name": "ipython",
    "version": 2
   },
   "file_extension": ".py",
   "mimetype": "text/x-python",
   "name": "python",
   "nbconvert_exporter": "python",
   "pygments_lexer": "ipython2",
   "version": "2.7.6"
  }
 },
 "nbformat": 4,
 "nbformat_minor": 5
}
