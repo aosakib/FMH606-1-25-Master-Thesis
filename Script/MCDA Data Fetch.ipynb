{
 "cells": [
  {
   "cell_type": "code",
   "id": "initial_id",
   "metadata": {
    "collapsed": true,
    "ExecuteTime": {
     "end_time": "2025-05-02T09:45:08.262688Z",
     "start_time": "2025-05-02T09:44:21.000992Z"
    }
   },
   "source": [
    "# Land Cover Data for MCDA from Google Earth Engine\n",
    "import ee\n",
    "import json\n",
    "\n",
    "# Authenticate and initialize Earth Engine\n",
    "try:\n",
    "    ee.Initialize()\n",
    "except Exception:\n",
    "    ee.Authenticate()\n",
    "    ee.Initialize()\n",
    "\n",
    "# Load ESA WorldCover 10m land cover dataset (2020)\n",
    "landcover = ee.Image(\"ESA/WorldCover/v100/2020\")\n",
    "\n",
    "# Load simplified country boundaries\n",
    "countries = ee.FeatureCollection(\"USDOS/LSIB_SIMPLE/2017\")\n",
    "\n",
    "# Get geometries for Denmark and Norway\n",
    "denmark = countries.filter(ee.Filter.eq(\"country_na\", \"Denmark\"))\n",
    "norway = countries.filter(ee.Filter.eq(\"country_na\", \"Norway\"))\n",
    "\n",
    "# Add a \"country_code\" property: Denmark = 2, Norway = 1\n",
    "denmark = denmark.map(lambda f: f.set(\"country_code\", 2))\n",
    "norway = norway.map(lambda f: f.set(\"country_code\", 1))\n",
    "\n",
    "# Combine the country features\n",
    "combined_countries = denmark.merge(norway)\n",
    "\n",
    "# Rasterize the country features\n",
    "country_raster = ee.Image().int().paint(combined_countries, \"country_code\")\n",
    "\n",
    "# Stack landcover and country raster\n",
    "combined_image = landcover.addBands(country_raster.rename(\"country\"))\n",
    "\n",
    "# Sample both landcover and country in a single operation\n",
    "samples = combined_image.sample(\n",
    "    region=combined_countries.geometry(),\n",
    "    scale=500,\n",
    "    numPixels=5000,\n",
    "    geometries=True\n",
    ")\n",
    "\n",
    "# Get the data\n",
    "features = samples.getInfo()['features']\n",
    "\n",
    "# Land cover class names\n",
    "legend = {\n",
    "    10: \"Tree Cover\",\n",
    "    20: \"Shrubland\",\n",
    "    30: \"Grassland\",\n",
    "    40: \"Cropland\",\n",
    "    50: \"Built-up\",\n",
    "    60: \"Bare / Sparse\",\n",
    "    70: \"Snow and Ice\",\n",
    "    80: \"Water\",\n",
    "    90: \"Wetlands\",\n",
    "    95: \"Mangroves\",\n",
    "    100: \"Moss & Lichen\"\n",
    "}\n",
    "\n",
    "# Country code to name\n",
    "country_map = {1: \"Norway\", 2: \"Denmark\"}\n",
    "\n",
    "# Land Cover Outfile File\n",
    "output_dir = r\"C:\\GISDataManipulation\\LandCoverData\"\n",
    "os.makedirs(output_dir, exist_ok=True)\n",
    "output_file = os.path.join(output_dir, \"landcover_with_country.txt\")\n",
    "\n",
    "# Save the data\n",
    "with open(output_file, \"w\") as f:\n",
    "    f.write(\"Latitude, Longitude, Country, Class Value, Class Name\\n\")\n",
    "    for feat in features:\n",
    "        lon, lat = feat[\"geometry\"][\"coordinates\"]\n",
    "        land_val = feat[\"properties\"][\"Map\"]\n",
    "        country_val = feat[\"properties\"][\"country\"]\n",
    "        label = legend.get(land_val, \"Unknown\")\n",
    "        country = country_map.get(country_val, \"Unknown\")\n",
    "        f.write(f\"{lat:.6f}, {lon:.6f}, {country}, {land_val}, {label}\\n\")\n",
    "\n",
    "print(f\"Land Cover Data saved at: {output_file}\")\n"
   ],
   "outputs": [
    {
     "data": {
      "text/plain": [
       "<IPython.core.display.HTML object>"
      ],
      "text/html": [
       "<p>To authorize access needed by Earth Engine, open the following\n",
       "        URL in a web browser and follow the instructions:</p>\n",
       "        <p><a href=https://code.earthengine.google.com/client-auth?scopes=https%3A//www.googleapis.com/auth/earthengine%20https%3A//www.googleapis.com/auth/cloud-platform%20https%3A//www.googleapis.com/auth/drive%20https%3A//www.googleapis.com/auth/devstorage.full_control&request_id=vIJCZov_EGil4Daa9HzdByvLDJasKfEp6op8njHGum4&tc=pMdnevfmBWDNdTkrLG7lT4Xy5qIf3WNsytIxOEqMgkc&cc=Lch3tybZW9nRXyxenHnlf27VIJXO8J0cJg1Jp9I7oJ4>https://code.earthengine.google.com/client-auth?scopes=https%3A//www.googleapis.com/auth/earthengine%20https%3A//www.googleapis.com/auth/cloud-platform%20https%3A//www.googleapis.com/auth/drive%20https%3A//www.googleapis.com/auth/devstorage.full_control&request_id=vIJCZov_EGil4Daa9HzdByvLDJasKfEp6op8njHGum4&tc=pMdnevfmBWDNdTkrLG7lT4Xy5qIf3WNsytIxOEqMgkc&cc=Lch3tybZW9nRXyxenHnlf27VIJXO8J0cJg1Jp9I7oJ4</a></p>\n",
       "        <p>The authorization workflow will generate a code, which you should paste in the box below.</p>\n",
       "        "
      ]
     },
     "metadata": {},
     "output_type": "display_data"
    },
    {
     "name": "stdout",
     "output_type": "stream",
     "text": [
      "\n",
      "Successfully saved authorization token.\n"
     ]
    },
    {
     "ename": "NameError",
     "evalue": "name 'os' is not defined",
     "output_type": "error",
     "traceback": [
      "\u001B[31m---------------------------------------------------------------------------\u001B[39m",
      "\u001B[31mNameError\u001B[39m                                 Traceback (most recent call last)",
      "\u001B[36mCell\u001B[39m\u001B[36m \u001B[39m\u001B[32mIn[3]\u001B[39m\u001B[32m, line 66\u001B[39m\n\u001B[32m     64\u001B[39m \u001B[38;5;66;03m# Land Cover Outfile File\u001B[39;00m\n\u001B[32m     65\u001B[39m output_dir = \u001B[33mr\u001B[39m\u001B[33m\"\u001B[39m\u001B[33mC:\u001B[39m\u001B[33m\\\u001B[39m\u001B[33mGISDataManipulation\u001B[39m\u001B[33m\\\u001B[39m\u001B[33mLandCoverData\u001B[39m\u001B[33m\"\u001B[39m\n\u001B[32m---> \u001B[39m\u001B[32m66\u001B[39m \u001B[43mos\u001B[49m.makedirs(output_dir, exist_ok=\u001B[38;5;28;01mTrue\u001B[39;00m)\n\u001B[32m     67\u001B[39m output_file = os.path.join(output_dir, \u001B[33m\"\u001B[39m\u001B[33mlandcover_with_country.txt\u001B[39m\u001B[33m\"\u001B[39m)\n\u001B[32m     69\u001B[39m \u001B[38;5;66;03m# Save the data\u001B[39;00m\n",
      "\u001B[31mNameError\u001B[39m: name 'os' is not defined"
     ]
    }
   ],
   "execution_count": 3
  },
  {
   "metadata": {
    "ExecuteTime": {
     "end_time": "2025-05-02T10:04:28.140602Z",
     "start_time": "2025-05-02T10:02:53.324091Z"
    }
   },
   "cell_type": "code",
   "source": [
    "#Substation Data Fetching for Norway and Denmark\n",
    "import requests\n",
    "import geopandas as gpd\n",
    "import pandas as pd\n",
    "from shapely.geometry import Point\n",
    "\n",
    "# Output paths\n",
    "OUTPUT_GEOJSON = r\"C:\\GISDataManipulation\\SubstationData\\Substations_Norway_Denmark_Recent.geojson\"\n",
    "OUTPUT_TXT = r\"C:\\GISDataManipulation\\SubstationData\\Substations_Norway_Denmark_Recent.txt\"\n",
    "\n",
    "# Bounding box for Norway and Denmark: (south, west, north, east)\n",
    "bbox = [54.5, 5.0, 71.0, 31.0]\n",
    "\n",
    "# Overpass API query for substations\n",
    "query = f\"\"\"\n",
    "[out:json][timeout:300];\n",
    "(\n",
    "  node[\"power\"=\"substation\"]({bbox[0]},{bbox[1]},{bbox[2]},{bbox[3]});\n",
    "  way[\"power\"=\"substation\"]({bbox[0]},{bbox[1]},{bbox[2]},{bbox[3]});\n",
    ");\n",
    "out body;\n",
    ">;\n",
    "out skel qt;\n",
    "\"\"\"\n",
    "\n",
    "# Request from Overpass API\n",
    "print(\"Fetching substations from OSM (Overpass API)...\")\n",
    "url = \"https://overpass-api.de/api/interpreter\"\n",
    "response = requests.post(url, data={'data': query})\n",
    "response.raise_for_status()\n",
    "data = response.json()\n",
    "\n",
    "# Parse Overpass data to GeoDataFrame\n",
    "elements = data['elements']\n",
    "nodes = {el['id']: (el['lon'], el['lat']) for el in elements if el['type'] == 'node'}\n",
    "features = []\n",
    "\n",
    "for el in elements:\n",
    "    if el['type'] == 'node':\n",
    "        geometry = Point(el['lon'], el['lat'])\n",
    "        features.append({'geometry': geometry, 'id': el['id'], 'type': 'node'})\n",
    "    elif el['type'] == 'way' and 'nodes' in el:\n",
    "        coords = [nodes[nid] for nid in el['nodes'] if nid in nodes]\n",
    "        if coords:\n",
    "            centroid = Point(pd.DataFrame(coords).mean().values)\n",
    "            features.append({'geometry': centroid, 'id': el['id'], 'type': 'way'})\n",
    "\n",
    "gdf = gpd.GeoDataFrame(features, crs=\"EPSG:4326\")\n",
    "\n",
    "# Save GeoJSON\n",
    "gdf.to_file(OUTPUT_GEOJSON, driver=\"GeoJSON\")\n",
    "print(f\" Substation data saved to: {OUTPUT_GEOJSON}\")\n",
    "\n",
    "# Save simplified .txt file with centroids\n",
    "gdf['Longitude'] = gdf.geometry.x\n",
    "gdf['Latitude'] = gdf.geometry.y\n",
    "df_txt = gdf[['Latitude', 'Longitude', 'id', 'type']]\n",
    "df_txt.to_csv(OUTPUT_TXT, sep=\",\", index=False)\n",
    "print(f\" Substation locations saved to TXT at: {OUTPUT_TXT}\")\n",
    "\n",
    "# Preview output\n",
    "print(\"\\n Sample of fetched substation data:\")\n",
    "print(df_txt.head())"
   ],
   "id": "170acd59b3006516",
   "outputs": [
    {
     "name": "stdout",
     "output_type": "stream",
     "text": [
      "Fetching substations from OSM (Overpass API)...\n",
      " Substation data saved to: C:\\GISDataManipulation\\SubstationData\\Substations_Norway_Denmark_Recent.geojson\n",
      " Substation locations saved to TXT at: C:\\GISDataManipulation\\SubstationData\\Substations_Norway_Denmark_Recent.txt\n",
      "\n",
      " Sample of fetched substation data:\n",
      "    Latitude  Longitude         id  type\n",
      "0  60.647636  17.146934  124440614  node\n",
      "1  63.406501  10.481262  245431610  node\n",
      "2  63.385097  10.357548  246519073  node\n",
      "3  63.412951  10.539669  247455681  node\n",
      "4  63.416624  10.535464  247455692  node\n"
     ]
    }
   ],
   "execution_count": 4
  },
  {
   "metadata": {},
   "cell_type": "code",
   "outputs": [],
   "execution_count": null,
   "source": [
    "#Transmission Line Data Fetching for Norway and Denmark\n",
    "import requests\n",
    "import geopandas as gpd\n",
    "import pandas as pd\n",
    "from shapely.geometry import LineString\n",
    "\n",
    "# Output paths\n",
    "OUTPUT_TRANSMISSION_GEOJSON = r\"C:\\GISDataManipulation\\TransmissionLineData\\Transmission_Lines_Norway_Denmark_Recent.geojson\"\n",
    "OUTPUT_TRANSMISSION_TXT = r\"C:\\GISDataManipulation\\TransmissionLineData\\Transmission_Lines_Norway_Denmark_Recent.txt\"\n",
    "\n",
    "# Bounding box for Denmark and Norway: (south, west, north, east)\n",
    "bbox = [54.5, 5.0, 71.0, 31.0]\n",
    "\n",
    "# Overpass query for power lines\n",
    "query = f\"\"\"\n",
    "[out:json][timeout:300];\n",
    "(\n",
    "  way[\"power\"=\"line\"]({bbox[0]},{bbox[1]},{bbox[2]},{bbox[3]});\n",
    ");\n",
    "out body;\n",
    ">;\n",
    "out skel qt;\n",
    "\"\"\"\n",
    "\n",
    "# Fetch data\n",
    "url = \"https://overpass-api.de/api/interpreter\"\n",
    "response = requests.post(url, data={'data': query})\n",
    "response.raise_for_status()\n",
    "data = response.json()\n",
    "\n",
    "# Convert JSON to GeoDataFrame\n",
    "nodes = {node['id']: (node['lon'], node['lat']) for node in data['elements'] if node['type'] == 'node'}\n",
    "lines = []\n",
    "for element in data['elements']:\n",
    "    if element['type'] == 'way' and 'nodes' in element:\n",
    "        coords = [nodes[node_id] for node_id in element['nodes'] if node_id in nodes]\n",
    "        lines.append({'geometry': LineString(coords), 'id': element['id']})\n",
    "\n",
    "gdf = gpd.GeoDataFrame(lines, crs=\"EPSG:4326\")\n",
    "\n",
    "# Show first few lines\n",
    "print(\"First 5 fetched transmission lines:\")\n",
    "print(gdf.head(5))\n",
    "\n",
    "# Save GeoJSON\n",
    "gdf.to_file(OUTPUT_TRANSMISSION_GEOJSON, driver=\"GeoJSON\")\n",
    "print(f\"Transmission lines saved to {OUTPUT_TRANSMISSION_GEOJSON}\")\n",
    "\n",
    "# Convert centroids and save to TXT\n",
    "gdf['Longitude'] = gdf.geometry.centroid.x\n",
    "gdf['Latitude'] = gdf.geometry.centroid.y\n",
    "df_txt = gdf[['Latitude', 'Longitude', 'id']]\n",
    "df_txt.to_csv(OUTPUT_TRANSMISSION_TXT, sep=\",\", index=False)\n",
    "print(f\"Transmission line centroids saved to TXT at: {OUTPUT_TRANSMISSION_TXT}\")\n"
   ],
   "id": "7aae946cdcb36bbc"
  },
  {
   "metadata": {
    "ExecuteTime": {
     "end_time": "2025-05-02T10:24:25.175242Z",
     "start_time": "2025-05-02T10:24:24.466807Z"
    }
   },
   "cell_type": "code",
   "source": [
    "# Transmission and Substation File Merging\n",
    "import pandas as pd\n",
    "\n",
    "# Load the two input files\n",
    "trans = pd.read_csv(r\"C:\\GISDataManipulation\\TransmissionLineData\\Transmission_Lines_Norway_Denmark_Recent.txt\")\n",
    "subs = pd.read_csv(r\"C:\\GISDataManipulation\\SubstationData\\Substations_Norway_Denmark_Recent.txt\")\n",
    "\n",
    "# Add type columns\n",
    "trans[\"type\"] = \"Transmission Line\"\n",
    "subs[\"type\"] = \"Substation\"\n",
    "\n",
    "# Keep only necessary columns\n",
    "trans = trans[[\"Latitude\", \"Longitude\", \"id\", \"type\"]]\n",
    "subs = subs[[\"Latitude\", \"Longitude\", \"id\", \"type\"]]\n",
    "\n",
    "# Merge both DataFrames\n",
    "combined = pd.concat([trans, subs], ignore_index=True)\n",
    "\n",
    "# Save to new .txt file\n",
    "combined.to_csv(r\"C:\\GISDataManipulation\\StationTranmissionLineCombined\\merged_grid_infra.txt\", index=False)\n",
    "\n",
    "print(\"Merged infrastructure saved to 'merged_grid_infra.txt'\")\n"
   ],
   "id": "961eedb41f161246",
   "outputs": [
    {
     "name": "stdout",
     "output_type": "stream",
     "text": [
      "Merged infrastructure saved to 'merged_grid_infra.txt'\n"
     ]
    }
   ],
   "execution_count": 5
  },
  {
   "metadata": {},
   "cell_type": "code",
   "outputs": [],
   "execution_count": null,
   "source": "",
   "id": "df3e271a2288235e"
  }
 ],
 "metadata": {
  "kernelspec": {
   "display_name": "Python 3",
   "language": "python",
   "name": "python3"
  },
  "language_info": {
   "codemirror_mode": {
    "name": "ipython",
    "version": 2
   },
   "file_extension": ".py",
   "mimetype": "text/x-python",
   "name": "python",
   "nbconvert_exporter": "python",
   "pygments_lexer": "ipython2",
   "version": "2.7.6"
  }
 },
 "nbformat": 4,
 "nbformat_minor": 5
}
