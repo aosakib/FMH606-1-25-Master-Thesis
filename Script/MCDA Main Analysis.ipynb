{
 "cells": [
  {
   "cell_type": "code",
   "id": "initial_id",
   "metadata": {
    "collapsed": true,
    "ExecuteTime": {
     "end_time": "2025-05-02T16:53:01.229412Z",
     "start_time": "2025-05-02T16:52:32.818571Z"
    }
   },
   "source": [
    "# --- Final Script to analyze optimal location for Energy Island with MCDA ---\n",
    "import pandas as pd\n",
    "import numpy as np\n",
    "from scipy.spatial import cKDTree\n",
    "from geopy.distance import geodesic\n",
    "\n",
    "# --- Step 1: Load all datasets ---\n",
    "solar = pd.read_csv(r\"C:\\GISDataManipulation\\MCDA Files\\solar_mcda_scores.csv\")\n",
    "wind = pd.read_csv(r\"C:\\GISDataManipulation\\MCDA Files\\wind_mcda_output.txt\")\n",
    "land = pd.read_csv(r\"C:\\GISDataManipulation\\MCDA Files\\landcover_mcda_scores.txt\")              # TXT\n",
    "grid = pd.read_csv(r\"C:\\GISDataManipulation\\StationTranmissionLineCombined\\merged_grid_infra.txt\")               # TXT\n",
    "\n",
    "# --- Step 2: Round coordinates and convert to numpy arrays ---\n",
    "solar_coords = solar[['Latitude', 'Longitude']].to_numpy()\n",
    "wind_coords = wind[['Latitude', 'Longitude']].to_numpy()\n",
    "land_coords = land[['Latitude', 'Longitude']].to_numpy()\n",
    "\n",
    "# --- Step 3: Build KDTree from solar coordinates (as base) ---\n",
    "tree_wind = cKDTree(wind_coords)\n",
    "tree_land = cKDTree(land_coords)\n",
    "\n",
    "# Match wind to solar (get nearest index)\n",
    "_, idx_wind = tree_wind.query(solar_coords, k=1, distance_upper_bound=0.01)  # ~1km tolerance\n",
    "_, idx_land = tree_land.query(solar_coords, k=1, distance_upper_bound=0.01)\n",
    "\n",
    "# Filter valid indices (drop unmatched)\n",
    "valid_mask = (idx_wind < len(wind)) & (idx_land < len(land))\n",
    "solar = solar[valid_mask].reset_index(drop=True)\n",
    "wind_matched = wind.iloc[idx_wind[valid_mask]].reset_index(drop=True)\n",
    "land_matched = land.iloc[idx_land[valid_mask]].reset_index(drop=True)\n",
    "\n",
    "# --- Step 4: Combine datasets ---\n",
    "merged = pd.DataFrame({\n",
    "    'Latitude': solar['Latitude'],\n",
    "    'Longitude': solar['Longitude'],\n",
    "    'solar_score': solar['solar_score'],\n",
    "    'wind_score': wind_matched['wind_score'],\n",
    "    'land_score': land_matched['land_score']\n",
    "})\n",
    "\n",
    "print(\"Matched rows:\", len(merged))\n",
    "\n",
    "# --- Step 5: Remove invalid coordinates ---\n",
    "merged = merged.dropna(subset=['Latitude', 'Longitude'])\n",
    "merged = merged[pd.to_numeric(merged['Latitude'], errors='coerce').notnull()]\n",
    "merged = merged[pd.to_numeric(merged['Longitude'], errors='coerce').notnull()]\n",
    "merged['Latitude'] = merged['Latitude'].astype(float)\n",
    "merged['Longitude'] = merged['Longitude'].astype(float)\n",
    "\n",
    "# --- Step 6: Compute distance to grid ---\n",
    "print(\"Calculating distance to nearest grid point...\")\n",
    "# Convert coordinates to radians for basic approximation (Haversine would be even better)\n",
    "def latlon_to_xy(lat, lon):\n",
    "    # approximate conversion: 1 deg ≈ 111 km\n",
    "    return np.radians(lat) * 6371, np.radians(lon) * 6371 * np.cos(np.radians(lat))\n",
    "\n",
    "# Convert merged sample points to approximate XY\n",
    "sample_xy = np.array([latlon_to_xy(lat, lon) for lat, lon in zip(merged['Latitude'], merged['Longitude'])])\n",
    "\n",
    "# Convert grid points to approximate XY\n",
    "grid_xy = np.array([latlon_to_xy(lat, lon) for lat, lon in zip(grid['Latitude'], grid['Longitude'])])\n",
    "\n",
    "# Build KDTree for fast nearest-neighbor search\n",
    "tree = cKDTree(grid_xy)\n",
    "\n",
    "# Query nearest distance\n",
    "dists, _ = tree.query(sample_xy, k=1)\n",
    "merged['distance_to_grid_km'] = dists\n",
    "merged = merged.dropna(subset=['distance_to_grid_km'])\n",
    "\n",
    "# --- Step 7: Normalize and score grid distance ---\n",
    "d_min = merged['distance_to_grid_km'].min()\n",
    "d_max = merged['distance_to_grid_km'].max()\n",
    "merged['grid_norm'] = (d_max - merged['distance_to_grid_km']) / (d_max - d_min)\n",
    "merged['grid_score'] = (merged['grid_norm'] * 9).round().astype(int)\n",
    "\n",
    "# --- Step 8: Weighted MCDA score ---\n",
    "merged['final_score'] = (\n",
    "    0.35 * merged['solar_score'] +\n",
    "    0.25 * merged['wind_score'] +\n",
    "    0.20 * merged['land_score'] +\n",
    "    0.20 * merged['grid_score']\n",
    ").round(2)\n",
    "\n",
    "# --- Step 9: Save result ---\n",
    "output = merged[['Latitude', 'Longitude', 'solar_score', 'wind_score', 'land_score', 'grid_score', 'final_score']]\n",
    "output.to_csv(r\"C:\\GISDataManipulation\\MCDA Files\\FinalMCDAScore\\final_mcda_scores.txt\", index=False)\n",
    "\n",
    "print(\"Final MCDA output saved with\", len(output), \"rows.\")\n"
   ],
   "outputs": [
    {
     "name": "stdout",
     "output_type": "stream",
     "text": [
      "Matched rows: 6023\n",
      "Calculating distance to nearest grid point...\n",
      "Final MCDA output saved with 6023 rows.\n"
     ]
    }
   ],
   "execution_count": 4
  },
  {
   "metadata": {
    "ExecuteTime": {
     "end_time": "2025-05-02T16:55:55.403600Z",
     "start_time": "2025-05-02T16:55:55.107124Z"
    }
   },
   "cell_type": "code",
   "source": [
    "# --- Final Map to locate optimal location with MCDA Analysis ---\n",
    "import pandas as pd\n",
    "import folium\n",
    "from folium.plugins import MarkerCluster\n",
    "\n",
    "# Load MCDA results\n",
    "df = pd.read_csv(r\"C:\\GISDataManipulation\\MCDA Files\\FinalMCDAScore\\final_mcda_scores.txt\")\n",
    "\n",
    "# Step 1: Filter for optimal zones (score ≥ 7.5)\n",
    "optimal = df[df['final_score'] >= 7.5].copy()\n",
    "print(f\"Found {len(optimal)} optimal points with score ≥ 7\")\n",
    "\n",
    "# Step 2: Create map\n",
    "m = folium.Map(location=[60, 10], zoom_start=5, tiles=\"CartoDB positron\")\n",
    "\n",
    "# Step 3: Use MarkerCluster to group close points\n",
    "cluster = MarkerCluster().add_to(m)\n",
    "\n",
    "for _, row in optimal.iterrows():\n",
    "    popup = f\"Score: {row['final_score']}<br>Solar: {row['solar_score']}<br>Wind: {row['wind_score']}<br>Land: {row['land_score']}<br>Grid: {row['grid_score']}\"\n",
    "    folium.Marker(\n",
    "        location=[row['Latitude'], row['Longitude']],\n",
    "        popup=popup,\n",
    "        icon=folium.Icon(color=\"green\", icon=\"bolt\", prefix='fa')\n",
    "    ).add_to(cluster)\n",
    "\n",
    "# Step 4: Save output\n",
    "m.save(r\"C:\\GISDataManipulation\\MCDA Files\\FinalMCDAScore\\Final_optimal_mcda_zones.html\")\n",
    "print(\"Optimal zones map saved to 'Final_optimal_mcda_zones.html'\")\n"
   ],
   "id": "5750083f78c5882e",
   "outputs": [
    {
     "name": "stdout",
     "output_type": "stream",
     "text": [
      "Found 21 optimal points with score ≥ 7\n",
      "Optimal zones map saved to 'Final_optimal_mcda_zones.html'\n"
     ]
    }
   ],
   "execution_count": 5
  }
 ],
 "metadata": {
  "kernelspec": {
   "display_name": "Python 3",
   "language": "python",
   "name": "python3"
  },
  "language_info": {
   "codemirror_mode": {
    "name": "ipython",
    "version": 2
   },
   "file_extension": ".py",
   "mimetype": "text/x-python",
   "name": "python",
   "nbconvert_exporter": "python",
   "pygments_lexer": "ipython2",
   "version": "2.7.6"
  }
 },
 "nbformat": 4,
 "nbformat_minor": 5
}
