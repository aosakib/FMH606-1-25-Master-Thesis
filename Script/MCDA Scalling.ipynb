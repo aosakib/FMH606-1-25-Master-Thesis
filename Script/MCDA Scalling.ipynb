{
 "cells": [
  {
   "cell_type": "code",
   "id": "initial_id",
   "metadata": {
    "collapsed": true,
    "ExecuteTime": {
     "end_time": "2025-05-02T10:32:59.068710Z",
     "start_time": "2025-05-02T10:32:55.472934Z"
    }
   },
   "source": [
    "# Solar Data Normalization\n",
    "import pandas as pd\n",
    "\n",
    "# Step 1: Load CSV file\n",
    "df = pd.read_csv(r\"C:\\GISDataManipulation\\Merged_Denmark_Norway_SolarPVOUT\\Merged_SolarPVOUT_WithAverage.csv\")\n",
    "\n",
    "# Step 2: Min-Max normalization on PVOUT_Average\n",
    "df[\"solar_norm\"] = (df[\"PVOUT_Average\"] - df[\"PVOUT_Average\"].min()) / (df[\"PVOUT_Average\"].max() - df[\"PVOUT_Average\"].min())\n",
    "\n",
    "# Step 3: Scale to 0–9 MCDA score\n",
    "df[\"solar_score\"] = (df[\"solar_norm\"] * 9).round().astype(int)\n",
    "\n",
    "# Step 4: Save to new CSV file\n",
    "df.to_csv(r\"C:\\GISDataManipulation\\MCDA Files\\solar_mcda_scores.csv\", index=False)\n",
    "\n",
    "print(\"Normalized scores saved to 'solar_mcda_scores.csv'\")\n"
   ],
   "outputs": [
    {
     "name": "stdout",
     "output_type": "stream",
     "text": [
      "Normalized scores saved to 'solar_mcda_scores.csv'\n"
     ]
    }
   ],
   "execution_count": 1
  },
  {
   "metadata": {
    "ExecuteTime": {
     "end_time": "2025-05-02T10:39:17.971304Z",
     "start_time": "2025-05-02T10:36:39.461104Z"
    }
   },
   "cell_type": "code",
   "source": [
    "# Wind Data Normalization\n",
    "import pandas as pd\n",
    "\n",
    "# Step 1: Load the input TXT file (comma-separated)\n",
    "df = pd.read_csv(r\"C:\\GISDataManipulation\\NorwayDenmarkMergedWindSpeed100m\\NorwayDenmarkMergedWindSpeed100mFromTXT.txt\")\n",
    "\n",
    "# Step 2: Normalize Wind_Speed\n",
    "df[\"wind_norm\"] = (df[\"Wind_Speed\"] - df[\"Wind_Speed\"].min()) / (df[\"Wind_Speed\"].max() - df[\"Wind_Speed\"].min())\n",
    "\n",
    "# Step 3: Scale to 0–9 and round to integers\n",
    "df[\"wind_score\"] = (df[\"wind_norm\"] * 9).round().astype(int)\n",
    "\n",
    "# Step 4: Select desired columns\n",
    "df_out = df[[\"Latitude\", \"Longitude\", \"Wind_Speed\", \"wind_norm\", \"wind_score\"]]\n",
    "\n",
    "# Step 5: Save to a new TXT file (comma-separated)\n",
    "df_out.to_csv(r\"C:\\GISDataManipulation\\MCDA Files\\wind_mcda_output.txt\", index=False, sep=\",\")\n",
    "\n",
    "print(\"Output saved to 'wind_mcda_output.txt'\")\n"
   ],
   "id": "234898a0e9c767d0",
   "outputs": [
    {
     "name": "stdout",
     "output_type": "stream",
     "text": [
      "Output saved to 'wind_mcda_output.txt'\n"
     ]
    }
   ],
   "execution_count": 2
  },
  {
   "metadata": {
    "ExecuteTime": {
     "end_time": "2025-05-02T10:40:58.682018Z",
     "start_time": "2025-05-02T10:40:58.510821Z"
    }
   },
   "cell_type": "code",
   "source": [
    "# Land Cover Data Reclassification\n",
    "import pandas as pd\n",
    "\n",
    "# Step 1: Load the land cover .txt file\n",
    "df = pd.read_csv(r\"C:\\GISDataManipulation\\LandCoverData\\landcover_with_country.txt\")\n",
    "\n",
    "# Clean column names\n",
    "df.columns = df.columns.str.strip()\n",
    "\n",
    "# Step 2: Define reclassification mapping\n",
    "reclass_map = {\n",
    "    10: 3,\n",
    "    30: 7,\n",
    "    40: 9,\n",
    "    50: 1,\n",
    "    80: 0,\n",
    "    100: 5\n",
    "    # Add more if needed\n",
    "}\n",
    "\n",
    "# Step 3: Apply the reclassification\n",
    "df[\"land_score\"] = df[\"Class Value\"].map(reclass_map)\n",
    "\n",
    "# Step 4: Save to new file\n",
    "df.to_csv(r\"C:\\GISDataManipulation\\MCDA Files\\landcover_mcda_scores.txt\", index=False)\n",
    "\n",
    "print(\"Land cover MCDA scores saved to 'landcover_mcda_scores.txt'\")\n"
   ],
   "id": "77a3b20f3e6f1a43",
   "outputs": [
    {
     "name": "stdout",
     "output_type": "stream",
     "text": [
      "Land cover MCDA scores saved to 'landcover_mcda_scores.txt'\n"
     ]
    }
   ],
   "execution_count": 3
  },
  {
   "metadata": {},
   "cell_type": "code",
   "outputs": [],
   "execution_count": null,
   "source": "",
   "id": "defee4bf30970e8d"
  }
 ],
 "metadata": {
  "kernelspec": {
   "display_name": "Python 3",
   "language": "python",
   "name": "python3"
  },
  "language_info": {
   "codemirror_mode": {
    "name": "ipython",
    "version": 2
   },
   "file_extension": ".py",
   "mimetype": "text/x-python",
   "name": "python",
   "nbconvert_exporter": "python",
   "pygments_lexer": "ipython2",
   "version": "2.7.6"
  }
 },
 "nbformat": 4,
 "nbformat_minor": 5
}
