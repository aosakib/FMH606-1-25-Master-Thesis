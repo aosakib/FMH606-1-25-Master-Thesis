{
 "cells": [
  {
   "cell_type": "code",
   "id": "initial_id",
   "metadata": {
    "collapsed": true,
    "ExecuteTime": {
     "end_time": "2025-05-01T22:12:05.444287Z",
     "start_time": "2025-05-01T22:12:02.370893Z"
    }
   },
   "source": [
    "# PVOUT Data Merging for Norway and Denmark\n",
    "import pandas as pd\n",
    "import os\n",
    "\n",
    "# Paths to your CSV files\n",
    "DENMARK_CSV = r\"C:\\GISDataManipulation\\DenmarkPVOUTMergedInput\\DenmarkSolarPVOUT_12Months.csv\"\n",
    "NORWAY_CSV = r\"C:\\GISDataManipulation\\NorwayPVOUTMergedInput\\NorwaySolarPVOUT_12Months.csv\"\n",
    "OUTPUT_CSV = r\"C:\\GISDataManipulation\\Merged_Denmark_Norway_SolarPVOUT\\Merged_Denmark_Norway_SolarPVOUT_12Months.csv\"\n",
    "\n",
    "# Load both datasets\n",
    "df_denmark = pd.read_csv(DENMARK_CSV)\n",
    "df_norway = pd.read_csv(NORWAY_CSV)\n",
    "\n",
    "# Add 'Country' column to each\n",
    "df_denmark['Country'] = 'Denmark'\n",
    "df_norway['Country'] = 'Norway'\n",
    "\n",
    "# Ensure both have the same columns (except the 'Country' column)\n",
    "common_columns = [col for col in df_denmark.columns if col in df_norway.columns or col == 'Country']\n",
    "\n",
    "# Concatenate both dataframes\n",
    "df_merged = pd.concat([df_denmark[common_columns], df_norway[common_columns]], ignore_index=True)\n",
    "\n",
    "# Save the merged CSV\n",
    "df_merged.to_csv(OUTPUT_CSV, index=False)\n",
    "\n",
    "print(f\"Merged file saved at: {OUTPUT_CSV}\")\n"
   ],
   "outputs": [
    {
     "name": "stdout",
     "output_type": "stream",
     "text": [
      "Merged file saved at: C:\\GISDataManipulation\\Merged_Denmark_Norway_SolarPVOUT\\Merged_Denmark_Norway_SolarPVOUT_12Months.csv\n"
     ]
    }
   ],
   "execution_count": 1
  },
  {
   "metadata": {
    "ExecuteTime": {
     "end_time": "2025-05-01T23:42:56.369004Z",
     "start_time": "2025-05-01T23:41:12.989203Z"
    }
   },
   "cell_type": "code",
   "source": [
    "# Wind Speed Data Merging for Norway and Denmark\n",
    "import pandas as pd\n",
    "\n",
    "# Input file paths\n",
    "NORWAY_TXT_PATH = r\"C:\\GISDataManipulation\\NorwayWindSpeed100mTXT\\NorwayWindSpeed100mTxtFile.txt\"\n",
    "DENMARK_TXT_PATH = r\"C:\\GISDataManipulation\\DenmarkWindSpeed100mTXT\\DenmarkWindSpeed100mRasterTXT.txt\"\n",
    "OUTPUT_TXT_PATH = r\"C:\\GISDataManipulation\\NorwayDenmarkMergedWindSpeed100m\\NorwayDenmarkMergedWindSpeed100mFromTXT.txt\"\n",
    "\n",
    "# Load Norway wind data\n",
    "df_norway = pd.read_csv(NORWAY_TXT_PATH, delimiter=\",\")  # Change delimiter if your txt uses tabs or spaces\n",
    "df_norway['Country'] = 'Norway'\n",
    "\n",
    "# Load Denmark wind data\n",
    "df_denmark = pd.read_csv(DENMARK_TXT_PATH, delimiter=\",\")\n",
    "df_denmark['Country'] = 'Denmark'\n",
    "\n",
    "# Merge both DataFrames\n",
    "df_merged = pd.concat([df_norway, df_denmark], ignore_index=True)\n",
    "\n",
    "# Save merged result to TXT\n",
    "df_merged.to_csv(OUTPUT_TXT_PATH, index=False, sep=\",\")\n",
    "print(f\"Merged TXT file saved at: {OUTPUT_TXT_PATH}\")\n"
   ],
   "id": "7f462a75d1a3e97",
   "outputs": [
    {
     "name": "stdout",
     "output_type": "stream",
     "text": [
      "Merged TXT file saved at: C:\\GISDataManipulation\\NorwayDenmarkMergedWindSpeed100m\\NorwayDenmarkMergedWindSpeed100mFromTXT.txt\n"
     ]
    }
   ],
   "execution_count": 1
  },
  {
   "metadata": {
    "ExecuteTime": {
     "end_time": "2025-05-01T23:48:11.308436Z",
     "start_time": "2025-05-01T23:48:08.424890Z"
    }
   },
   "cell_type": "code",
   "source": [
    "# PVOUT Average Calculation for Norway and Denamrk Merged File\n",
    "import pandas as pd\n",
    "\n",
    "# Input merged CSV file\n",
    "INPUT_CSV = r\"C:\\GISDataManipulation\\Merged_Denmark_Norway_SolarPVOUT\\Merged_Denmark_Norway_SolarPVOUT_12Months.csv\"\n",
    "OUTPUT_CSV_AVG = r\"C:\\GISDataManipulation\\Merged_Denmark_Norway_SolarPVOUT\\Merged_SolarPVOUT_WithAverage.csv\"\n",
    "\n",
    "# Load the merged dataset\n",
    "df = pd.read_csv(INPUT_CSV)\n",
    "\n",
    "# Find all PVOUT monthly columns\n",
    "pvout_month_columns = [col for col in df.columns if col.startswith('PVOUT_Month_')]\n",
    "\n",
    "# Calculate the average PVOUT across all months for each row\n",
    "df['PVOUT_Average'] = df[pvout_month_columns].mean(axis=1)\n",
    "\n",
    "# Save the updated CSV with the average column\n",
    "df.to_csv(OUTPUT_CSV_AVG, index=False)\n",
    "\n",
    "print(f\"Merged file with PVOUT averages saved at: {OUTPUT_CSV_AVG}\")\n"
   ],
   "id": "9da08af7da127f8b",
   "outputs": [
    {
     "name": "stdout",
     "output_type": "stream",
     "text": [
      "Merged file with PVOUT averages saved at: C:\\GISDataManipulation\\Merged_Denmark_Norway_SolarPVOUT\\Merged_SolarPVOUT_WithAverage.csv\n"
     ]
    }
   ],
   "execution_count": 2
  },
  {
   "metadata": {},
   "cell_type": "code",
   "outputs": [],
   "execution_count": null,
   "source": "",
   "id": "3761a6e2fa6e7a4c"
  }
 ],
 "metadata": {
  "kernelspec": {
   "display_name": "Python 3",
   "language": "python",
   "name": "python3"
  },
  "language_info": {
   "codemirror_mode": {
    "name": "ipython",
    "version": 2
   },
   "file_extension": ".py",
   "mimetype": "text/x-python",
   "name": "python",
   "nbconvert_exporter": "python",
   "pygments_lexer": "ipython2",
   "version": "2.7.6"
  }
 },
 "nbformat": 4,
 "nbformat_minor": 5
}
