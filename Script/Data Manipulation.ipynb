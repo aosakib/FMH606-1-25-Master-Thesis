{
 "cells": [
  {
   "cell_type": "code",
   "id": "initial_id",
   "metadata": {
    "collapsed": true,
    "ExecuteTime": {
     "end_time": "2025-05-01T22:12:05.444287Z",
     "start_time": "2025-05-01T22:12:02.370893Z"
    }
   },
   "source": [
    "# PVOUT Data Merging for Norway and Denmark\n",
    "import pandas as pd\n",
    "import os\n",
    "\n",
    "# Paths to your CSV files\n",
    "DENMARK_CSV = r\"C:\\GISDataManipulation\\DenmarkPVOUTMergedInput\\DenmarkSolarPVOUT_12Months.csv\"\n",
    "NORWAY_CSV = r\"C:\\GISDataManipulation\\NorwayPVOUTMergedInput\\NorwaySolarPVOUT_12Months.csv\"\n",
    "OUTPUT_CSV = r\"C:\\GISDataManipulation\\Merged_Denmark_Norway_SolarPVOUT\\Merged_Denmark_Norway_SolarPVOUT_12Months.csv\"\n",
    "\n",
    "# Load both datasets\n",
    "df_denmark = pd.read_csv(DENMARK_CSV)\n",
    "df_norway = pd.read_csv(NORWAY_CSV)\n",
    "\n",
    "# Add 'Country' column to each\n",
    "df_denmark['Country'] = 'Denmark'\n",
    "df_norway['Country'] = 'Norway'\n",
    "\n",
    "# Ensure both have the same columns (except the 'Country' column)\n",
    "common_columns = [col for col in df_denmark.columns if col in df_norway.columns or col == 'Country']\n",
    "\n",
    "# Concatenate both dataframes\n",
    "df_merged = pd.concat([df_denmark[common_columns], df_norway[common_columns]], ignore_index=True)\n",
    "\n",
    "# Save the merged CSV\n",
    "df_merged.to_csv(OUTPUT_CSV, index=False)\n",
    "\n",
    "print(f\"Merged file saved at: {OUTPUT_CSV}\")\n"
   ],
   "outputs": [
    {
     "name": "stdout",
     "output_type": "stream",
     "text": [
      "Merged file saved at: C:\\GISDataManipulation\\Merged_Denmark_Norway_SolarPVOUT\\Merged_Denmark_Norway_SolarPVOUT_12Months.csv\n"
     ]
    }
   ],
   "execution_count": 1
  },
  {
   "metadata": {},
   "cell_type": "code",
   "outputs": [],
   "execution_count": null,
   "source": "",
   "id": "7f462a75d1a3e97"
  }
 ],
 "metadata": {
  "kernelspec": {
   "display_name": "Python 3",
   "language": "python",
   "name": "python3"
  },
  "language_info": {
   "codemirror_mode": {
    "name": "ipython",
    "version": 2
   },
   "file_extension": ".py",
   "mimetype": "text/x-python",
   "name": "python",
   "nbconvert_exporter": "python",
   "pygments_lexer": "ipython2",
   "version": "2.7.6"
  }
 },
 "nbformat": 4,
 "nbformat_minor": 5
}
