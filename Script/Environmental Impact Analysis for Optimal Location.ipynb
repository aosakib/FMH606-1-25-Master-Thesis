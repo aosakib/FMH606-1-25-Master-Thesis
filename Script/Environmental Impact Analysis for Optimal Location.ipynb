{
 "cells": [
  {
   "cell_type": "code",
   "id": "initial_id",
   "metadata": {
    "collapsed": true,
    "ExecuteTime": {
     "end_time": "2025-05-02T18:10:58.205607Z",
     "start_time": "2025-05-02T18:10:55.055063Z"
    }
   },
   "source": [
    "# === World Database on Protected Areas Merging Norway and Denmark ===\n",
    "import geopandas as gpd\n",
    "import pandas as pd\n",
    "import glob\n",
    "import os\n",
    "\n",
    "# === CONFIG ===\n",
    "root_dir = r\"C:\\GISDataManipulation\\WDPA_SHP_ALL_NOR_DNK\"\n",
    "output_excel = os.path.join(root_dir, \"merged_name_coordinates.xlsx\")\n",
    "\n",
    "# === STEP 1: Recursively find all .shp files in nested folders ===\n",
    "norway_shps = glob.glob(os.path.join(root_dir, \"Norway\", \"**\", \"*.shp\"), recursive=True)\n",
    "denmark_shps = glob.glob(os.path.join(root_dir, \"Denmark\", \"**\", \"*.shp\"), recursive=True)\n",
    "\n",
    "shapefile_paths = norway_shps + denmark_shps\n",
    "print(f\"Found {len(shapefile_paths)} shapefiles to merge.\")\n",
    "\n",
    "# === STEP 2: Load and merge ===\n",
    "gdfs = []\n",
    "for path in shapefile_paths:\n",
    "    print(f\"Loading: {path}\")\n",
    "    gdf = gpd.read_file(path)\n",
    "\n",
    "    # Ensure CRS is WGS84\n",
    "    if gdf.crs != \"EPSG:4326\":\n",
    "        gdf = gdf.to_crs(\"EPSG:4326\")\n",
    "\n",
    "    gdfs.append(gdf)\n",
    "\n",
    "merged = gpd.GeoDataFrame(pd.concat(gdfs, ignore_index=True), crs=\"EPSG:4326\")\n",
    "print(\"All shapefiles merged.\")\n",
    "\n",
    "# === STEP 3: Add centroid lat/lon for export ===\n",
    "merged[\"longitude\"] = merged.geometry.centroid.x\n",
    "merged[\"latitude\"] = merged.geometry.centroid.y\n",
    "\n",
    "# === STEP 4: Export to Excel with selected columns ===\n",
    "# Check for a valid column name\n",
    "possible_name_cols = [\"NAME\", \"NAME_EN\", \"WDPAID\", \"DESIG_ENG\", \"ORIG_NAME\"]\n",
    "name_col = next((col for col in possible_name_cols if col in merged.columns), None)\n",
    "\n",
    "if name_col is None:\n",
    "    raise ValueError(\"No suitable 'name' column found. Please check the attribute names.\")\n",
    "\n",
    "# Select only name + coordinates\n",
    "export_df = merged[[name_col, \"latitude\", \"longitude\"]].rename(columns={name_col: \"name\"})\n",
    "\n",
    "# Save to Excel\n",
    "export_df.to_excel(output_excel, index=False)\n",
    "\n",
    "print(f\"Excel exported with columns: name, latitude, longitude → {output_excel}\")\n"
   ],
   "outputs": [
    {
     "name": "stdout",
     "output_type": "stream",
     "text": [
      "Found 9 shapefiles to merge.\n",
      "Loading: C:\\GISDataManipulation\\WDPA_SHP_ALL_NOR_DNK\\Norway\\WDPA_WDOECM_Apr2025_Public_NOR_shp_0\\WDPA_WDOECM_Apr2025_Public_NOR_shp-points.shp\n",
      "Loading: C:\\GISDataManipulation\\WDPA_SHP_ALL_NOR_DNK\\Norway\\WDPA_WDOECM_Apr2025_Public_NOR_shp_0\\WDPA_WDOECM_Apr2025_Public_NOR_shp-polygons.shp\n",
      "Loading: C:\\GISDataManipulation\\WDPA_SHP_ALL_NOR_DNK\\Norway\\WDPA_WDOECM_Apr2025_Public_NOR_shp_1\\WDPA_WDOECM_Apr2025_Public_NOR_shp-points.shp\n",
      "Loading: C:\\GISDataManipulation\\WDPA_SHP_ALL_NOR_DNK\\Norway\\WDPA_WDOECM_Apr2025_Public_NOR_shp_1\\WDPA_WDOECM_Apr2025_Public_NOR_shp-polygons.shp\n",
      "Loading: C:\\GISDataManipulation\\WDPA_SHP_ALL_NOR_DNK\\Norway\\WDPA_WDOECM_Apr2025_Public_NOR_shp_2\\WDPA_WDOECM_Apr2025_Public_NOR_shp-points.shp\n",
      "Loading: C:\\GISDataManipulation\\WDPA_SHP_ALL_NOR_DNK\\Norway\\WDPA_WDOECM_Apr2025_Public_NOR_shp_2\\WDPA_WDOECM_Apr2025_Public_NOR_shp-polygons.shp\n",
      "Loading: C:\\GISDataManipulation\\WDPA_SHP_ALL_NOR_DNK\\Denmark\\WDPA_WDOECM_Apr2025_Public_DNK_shp_0\\WDPA_WDOECM_Apr2025_Public_DNK_shp-polygons.shp\n",
      "Loading: C:\\GISDataManipulation\\WDPA_SHP_ALL_NOR_DNK\\Denmark\\WDPA_WDOECM_Apr2025_Public_DNK_shp_1\\WDPA_WDOECM_Apr2025_Public_DNK_shp-polygons.shp\n",
      "Loading: C:\\GISDataManipulation\\WDPA_SHP_ALL_NOR_DNK\\Denmark\\WDPA_WDOECM_Apr2025_Public_DNK_shp_2\\WDPA_WDOECM_Apr2025_Public_DNK_shp-polygons.shp\n",
      "All shapefiles merged.\n"
     ]
    },
    {
     "name": "stderr",
     "output_type": "stream",
     "text": [
      "C:\\Users\\sakib\\AppData\\Local\\Temp\\ipykernel_23596\\2677377980.py:33: UserWarning: Geometry is in a geographic CRS. Results from 'centroid' are likely incorrect. Use 'GeoSeries.to_crs()' to re-project geometries to a projected CRS before this operation.\n",
      "\n",
      "  merged[\"longitude\"] = merged.geometry.centroid.x\n",
      "C:\\Users\\sakib\\AppData\\Local\\Temp\\ipykernel_23596\\2677377980.py:34: UserWarning: Geometry is in a geographic CRS. Results from 'centroid' are likely incorrect. Use 'GeoSeries.to_crs()' to re-project geometries to a projected CRS before this operation.\n",
      "\n",
      "  merged[\"latitude\"] = merged.geometry.centroid.y\n"
     ]
    },
    {
     "name": "stdout",
     "output_type": "stream",
     "text": [
      "Excel exported with columns: name, latitude, longitude → C:\\GISDataManipulation\\WDPA_SHP_ALL_NOR_DNK\\merged_name_coordinates.xlsx\n"
     ]
    }
   ],
   "execution_count": 3
  },
  {
   "metadata": {
    "ExecuteTime": {
     "end_time": "2025-05-02T18:46:12.908820Z",
     "start_time": "2025-05-02T18:46:11.489431Z"
    }
   },
   "cell_type": "code",
   "source": [
    "# === Final MCDA with Environmental Impact Cosideration ===\n",
    "import pandas as pd\n",
    "import geopandas as gpd\n",
    "from shapely.geometry import Point\n",
    "\n",
    "# === Step 1: Load MPA Excel File ===\n",
    "mpa_df = pd.read_excel(r\"C:\\GISDataManipulation\\WDPA_SHP_ALL_NOR_DNK\\merged_name_coordinates.xlsx\")  # update path\n",
    "\n",
    "# Ensure column names match your file\n",
    "mpa_df = mpa_df.rename(columns={\"latitude\": \"lat\", \"longitude\": \"lon\", \"Name\": \"mpa_name\"})\n",
    "\n",
    "# Drop rows without coordinates\n",
    "mpa_df = mpa_df.dropna(subset=[\"lat\", \"lon\"])\n",
    "\n",
    "# Create geometry\n",
    "mpa_df[\"geometry\"] = mpa_df.apply(lambda row: Point(row[\"lon\"], row[\"lat\"]), axis=1)\n",
    "gdf_mpa = gpd.GeoDataFrame(mpa_df, geometry=\"geometry\", crs=\"EPSG:4326\")\n",
    "\n",
    "# === Step 2: Buffer MPAs (e.g., 5 km) ===\n",
    "buffer_km = 5\n",
    "buffer_deg = buffer_km / 111  # Rough conversion: 1° ≈ 111 km\n",
    "\n",
    "gdf_mpa[\"geometry\"] = gdf_mpa.geometry.buffer(buffer_deg)\n",
    "mpa_union = gdf_mpa.unary_union  # merge all MPA buffers into one\n",
    "\n",
    "# === Step 3: Load MCDA Results ===\n",
    "mcda = pd.read_csv(r\"C:\\GISDataManipulation\\MCDA Files\\FinalMCDAScore\\final_mcda_scores.txt\")  # update path\n",
    "mcda = mcda.dropna(subset=[\"Latitude\", \"Longitude\"])\n",
    "\n",
    "# Convert to GeoDataFrame\n",
    "mcda[\"geometry\"] = mcda.apply(lambda row: Point(row[\"Longitude\"], row[\"Latitude\"]), axis=1)\n",
    "gdf_mcda = gpd.GeoDataFrame(mcda, geometry=\"geometry\", crs=\"EPSG:4326\")\n",
    "\n",
    "# === Step 4: Check if MCDA points fall within buffered MPAs ===\n",
    "gdf_mcda[\"in_or_near_mpa\"] = gdf_mcda.geometry.within(mpa_union)\n",
    "\n",
    "# === Option A: Filter out those points ===\n",
    "mcda_clean = gdf_mcda[~gdf_mcda[\"in_or_near_mpa\"]]\n",
    "mcda_clean.to_csv(r\"C:\\GISDataManipulation\\MCDA Files\\MCDAwEnvironment\\mcda_outside_mpa_buffer.txt\", index=False)\n",
    "\n",
    "# === Option B: Apply penalty to final_score ===\n",
    "gdf_mcda[\"env_impact_score\"] = gdf_mcda[\"in_or_near_mpa\"].apply(lambda x: 0 if x else 9)\n",
    "gdf_mcda[\"final_score_with_env\"] = (\n",
    "    0.3 * gdf_mcda[\"solar_score\"] +\n",
    "    0.25 * gdf_mcda[\"wind_score\"] +\n",
    "    0.2 * gdf_mcda[\"land_score\"] +\n",
    "    0.15 * gdf_mcda[\"grid_score\"] +\n",
    "    0.1 * gdf_mcda[\"env_impact_score\"]\n",
    ").round(2)\n",
    "\n",
    "# Save updated version\n",
    "gdf_mcda.to_csv(r\"C:\\GISDataManipulation\\MCDA Files\\MCDAwEnvironment\\mcda_with_environmental_filter.txt\", index=False)\n",
    "\n",
    "print(\"Done! MCDA points processed with MPA buffer zone.\")\n"
   ],
   "id": "77d27b4d4e310a26",
   "outputs": [
    {
     "name": "stderr",
     "output_type": "stream",
     "text": [
      "C:\\Users\\sakib\\AppData\\Local\\Temp\\ipykernel_23596\\2364959364.py:23: UserWarning: Geometry is in a geographic CRS. Results from 'buffer' are likely incorrect. Use 'GeoSeries.to_crs()' to re-project geometries to a projected CRS before this operation.\n",
      "\n",
      "  gdf_mpa[\"geometry\"] = gdf_mpa.geometry.buffer(buffer_deg)\n",
      "C:\\Users\\sakib\\AppData\\Local\\Temp\\ipykernel_23596\\2364959364.py:24: DeprecationWarning: The 'unary_union' attribute is deprecated, use the 'union_all()' method instead.\n",
      "  mpa_union = gdf_mpa.unary_union  # merge all MPA buffers into one\n"
     ]
    },
    {
     "name": "stdout",
     "output_type": "stream",
     "text": [
      "Done! MCDA points processed with MPA buffer zone.\n"
     ]
    }
   ],
   "execution_count": 5
  },
  {
   "metadata": {
    "ExecuteTime": {
     "end_time": "2025-05-02T18:53:40.431460Z",
     "start_time": "2025-05-02T18:53:39.724170Z"
    }
   },
   "cell_type": "code",
   "source": [
    "# === Final MCDA with Environmental Impact Cosideration Maps Out ===\n",
    "import pandas as pd\n",
    "import folium\n",
    "from folium.plugins import MarkerCluster\n",
    "\n",
    "# === Step 1: Load the MCDA results with environmental filtering ===\n",
    "df = pd.read_csv(r\"C:\\GISDataManipulation\\MCDA Files\\MCDAwEnvironment\\mcda_with_environmental_filter.txt\")  # Update with your path\n",
    "\n",
    "# === Step 2: Filter points with final_score_with_env > 7 ===\n",
    "optimal = df[df[\"final_score_with_env\"] > 7.5].copy()\n",
    "print(f\"Found {len(optimal)} optimal locations with score > 7.5\")\n",
    "\n",
    "# === Step 3: Save filtered data to a new file ===\n",
    "optimal.to_csv(r\"C:\\GISDataManipulation\\MCDA Files\\MCDAwEnvironment\\optimal_mcda_locations.txt\", index=False)\n",
    "\n",
    "# === Step 4: Create a Folium Map ===\n",
    "# Set a rough center for Norway/Denmark\n",
    "m = folium.Map(location=[60.0, 10.0], zoom_start=5, tiles=\"CartoDB positron\")\n",
    "\n",
    "# Add a marker cluster for better visualization\n",
    "marker_cluster = MarkerCluster().add_to(m)\n",
    "\n",
    "# === Step 5: Add markers to the map ===\n",
    "for _, row in optimal.iterrows():\n",
    "    popup_content = (\n",
    "        f\"<b>Final Score (Env):</b> {row['final_score_with_env']}<br>\"\n",
    "        f\"<b>Solar:</b> {row['solar_score']}<br>\"\n",
    "        f\"<b>Wind:</b> {row['wind_score']}<br>\"\n",
    "        f\"<b>Land:</b> {row['land_score']}<br>\"\n",
    "        f\"<b>Grid:</b> {row['grid_score']}\"\n",
    "    )\n",
    "    folium.Marker(\n",
    "        location=[row['Latitude'], row['Longitude']],\n",
    "        popup=folium.Popup(popup_content, max_width=250),\n",
    "        icon=folium.Icon(color=\"green\", icon=\"check\")\n",
    "    ).add_to(marker_cluster)\n",
    "\n",
    "# === Step 6: Save the map to an HTML file ===\n",
    "m.save(r\"C:\\GISDataManipulation\\MCDA Files\\MCDAwEnvironment\\optimal_mcda_map.html\")\n",
    "print(\"Interactive map saved to 'optimal_mcda_map.html'\")\n"
   ],
   "id": "4381d698fb374cf6",
   "outputs": [
    {
     "name": "stdout",
     "output_type": "stream",
     "text": [
      "Found 15 optimal locations with score > 7.5\n",
      "Interactive map saved to 'optimal_mcda_map.html'\n"
     ]
    }
   ],
   "execution_count": 6
  },
  {
   "metadata": {},
   "cell_type": "code",
   "outputs": [],
   "execution_count": null,
   "source": "",
   "id": "f2f1166f688ddbf6"
  }
 ],
 "metadata": {
  "kernelspec": {
   "display_name": "Python 3",
   "language": "python",
   "name": "python3"
  },
  "language_info": {
   "codemirror_mode": {
    "name": "ipython",
    "version": 2
   },
   "file_extension": ".py",
   "mimetype": "text/x-python",
   "name": "python",
   "nbconvert_exporter": "python",
   "pygments_lexer": "ipython2",
   "version": "2.7.6"
  }
 },
 "nbformat": 4,
 "nbformat_minor": 5
}
