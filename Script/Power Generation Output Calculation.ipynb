{
 "cells": [
  {
   "metadata": {
    "ExecuteTime": {
     "end_time": "2025-05-10T20:46:26.822296Z",
     "start_time": "2025-05-10T20:46:26.796920Z"
    }
   },
   "cell_type": "code",
   "source": [
    "# === Power Generation Calculation ===\n",
    "import pandas as pd\n",
    "import numpy as np\n",
    "\n",
    "# === Step 1: Load MCDA data ===\n",
    "mcda_path = r\"C:\\GISDataManipulation\\MCDA Files\\MCDAwEnvironment\\mcda_with_environmental_filter.txt\"\n",
    "mcda = pd.read_csv(mcda_path)\n",
    "\n",
    "# === Step 2: Filter for high-scoring locations only ===\n",
    "mcda_filtered = mcda[mcda[\"final_score_with_env\"] > 7.5].copy()\n",
    "print(f\"Filtered locations with final_score_with_env > 7.5: {len(mcda_filtered)}\")\n",
    "\n",
    "# === Step 3: Estimate Solar Energy ===\n",
    "mcda_filtered[\"Installed_kWp\"] = 50\n",
    "mcda_filtered[\"Monthly_Energy_kWh\"] = mcda_filtered[\"PVOUT_Average\"] * mcda_filtered[\"Installed_kWp\"]\n",
    "mcda_filtered[\"Yearly_Energy_kWh_Solar\"] = mcda_filtered[\"Monthly_Energy_kWh\"] * 12\n",
    "\n",
    "# === Step 4: Estimate Wind Energy for 5 turbines ===\n",
    "def estimate_wind_energy(v, rotor_area=78.5, air_density=1.225, efficiency=0.35, hours=8760, turbines=5):\n",
    "    if np.isnan(v):\n",
    "        return 0\n",
    "    power = 0.5 * air_density * rotor_area * (v ** 3) * efficiency  # in watts\n",
    "    energy_kwh = power * hours / 1000  # convert to kWh\n",
    "    return energy_kwh * turbines  # scale for number of turbines\n",
    "\n",
    "mcda_filtered[\"Yearly_Energy_kWh_Wind\"] = mcda_filtered[\"Wind_Speed\"].apply(estimate_wind_energy)\n",
    "\n",
    "# === Step 5: Total energy and convert to MWh ===\n",
    "mcda_filtered[\"Total_Yearly_Energy_kWh\"] = (\n",
    "    mcda_filtered[\"Yearly_Energy_kWh_Solar\"] + mcda_filtered[\"Yearly_Energy_kWh_Wind\"]\n",
    ")\n",
    "mcda_filtered[\"Total_Yearly_Energy_MWh\"] = mcda_filtered[\"Total_Yearly_Energy_kWh\"] / 1000\n",
    "\n",
    "# === Step 6: Save selected columns only ===\n",
    "output_path = r\"C:\\GISDataManipulation\\MCDA Files\\MCDAwEnvironment\\filtered_energy_output.txt\"\n",
    "columns_to_save = [\n",
    "    \"Longitude\",\n",
    "    \"Latitude\",\n",
    "    \"PVOUT_Average\",\n",
    "    \"Wind_Speed\",\n",
    "    \"Total_Yearly_Energy_MWh\"\n",
    "]\n",
    "mcda_filtered[columns_to_save].to_csv(output_path, index=False)\n",
    "\n",
    "# === Step 7: Print summary ===\n",
    "total_energy_mwh = mcda_filtered[\"Total_Yearly_Energy_MWh\"].sum()\n",
    "print(\"Final output contains only high-scoring locations (score > 7.5).\")\n",
    "print(f\"Total yearly energy for filtered sites (with 5 turbines each): {total_energy_mwh:,.2f} MWh\")\n",
    "print(f\"Saved to: {output_path}\")\n"
   ],
   "id": "89e16c34b53517d8",
   "outputs": [
    {
     "name": "stdout",
     "output_type": "stream",
     "text": [
      "Filtered locations with final_score_with_env > 7.5: 15\n",
      "Final output contains only high-scoring locations (score > 7.5).\n",
      "Total yearly energy for filtered sites (with 5 turbines each): 8,327.63 MWh\n",
      "Saved to: C:\\GISDataManipulation\\MCDA Files\\MCDAwEnvironment\\filtered_energy_output.txt\n"
     ]
    }
   ],
   "execution_count": 22
  },
  {
   "metadata": {
    "ExecuteTime": {
     "end_time": "2025-05-10T20:46:57.436530Z",
     "start_time": "2025-05-10T20:46:57.393884Z"
    }
   },
   "cell_type": "code",
   "source": [
    "# === Map of Power Generation with Location Pin ===\n",
    "import pandas as pd\n",
    "import folium\n",
    "from folium.plugins import MarkerCluster\n",
    "\n",
    "# === Step 1: Load the filtered energy output file ===\n",
    "data_path = r\"C:\\GISDataManipulation\\MCDA Files\\MCDAwEnvironment\\filtered_energy_output.txt\"\n",
    "df = pd.read_csv(data_path)\n",
    "\n",
    "# === Step 2: Create the Folium map ===\n",
    "m = folium.Map(location=[df[\"Latitude\"].mean(), df[\"Longitude\"].mean()], zoom_start=6, tiles=\"CartoDB positron\")\n",
    "marker_cluster = MarkerCluster().add_to(m)\n",
    "\n",
    "# === Step 3: Add markers with full data popups ===\n",
    "for _, row in df.iterrows():\n",
    "    popup_content = (\n",
    "        f\"<b>Latitude:</b> {row['Latitude']}<br>\"\n",
    "        f\"<b>Longitude:</b> {row['Longitude']}<br>\"\n",
    "        f\"<b>PVOUT Average:</b> {row['PVOUT_Average']} kWh/kWp/Month<br>\"\n",
    "        f\"<b>Wind Speed:</b> {row['Wind_Speed']} m/s<br>\"\n",
    "        f\"<b>Total Yearly Energy:</b> {row['Total_Yearly_Energy_MWh']:.2f} MWh\"\n",
    "    )\n",
    "    folium.Marker(\n",
    "        location=[row['Latitude'], row['Longitude']],\n",
    "        popup=folium.Popup(popup_content, max_width=300),\n",
    "        icon=folium.Icon(color=\"blue\", icon=\"bolt\")\n",
    "    ).add_to(marker_cluster)\n",
    "\n",
    "# === Step 4: Save the map ===\n",
    "map_output = r\"C:\\GISDataManipulation\\MCDA Files\\MCDAwEnvironment\\filtered_energy_map.html\"\n",
    "m.save(map_output)\n",
    "print(f\"Map saved to: {map_output}\")\n"
   ],
   "id": "35491e654f0e9515",
   "outputs": [
    {
     "name": "stdout",
     "output_type": "stream",
     "text": [
      "Map saved to: C:\\GISDataManipulation\\MCDA Files\\MCDAwEnvironment\\filtered_energy_map.html\n"
     ]
    }
   ],
   "execution_count": 23
  }
 ],
 "metadata": {
  "kernelspec": {
   "display_name": "Python 3",
   "language": "python",
   "name": "python3"
  },
  "language_info": {
   "codemirror_mode": {
    "name": "ipython",
    "version": 2
   },
   "file_extension": ".py",
   "mimetype": "text/x-python",
   "name": "python",
   "nbconvert_exporter": "python",
   "pygments_lexer": "ipython2",
   "version": "2.7.6"
  }
 },
 "nbformat": 4,
 "nbformat_minor": 5
}
